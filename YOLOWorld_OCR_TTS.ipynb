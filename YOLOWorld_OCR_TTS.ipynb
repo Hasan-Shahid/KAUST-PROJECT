{
 "cells": [
  {
   "cell_type": "code",
   "execution_count": 19,
   "id": "a97701af",
   "metadata": {},
   "outputs": [
    {
     "name": "stdout",
     "output_type": "stream",
     "text": [
      "Using device: cuda\n"
     ]
    }
   ],
   "source": [
    "import torch\n",
    "from IPython.display import Audio\n",
    "import numpy as np\n",
    "\n",
    "\n",
    "device = torch.device(\"cuda\" if torch.cuda.is_available() else \"cpu\")\n",
    "print(f\"Using device: {device}\")\n",
    "\n",
    "\n"
   ]
  },
  {
   "cell_type": "markdown",
   "id": "96cd5f1d",
   "metadata": {},
   "source": [
    "#  YOLO-WORLD Detector"
   ]
  },
  {
   "cell_type": "code",
   "execution_count": null,
   "id": "aecbb6a0",
   "metadata": {},
   "outputs": [],
   "source": [
    "# !pip install ultralytics\n",
    "\n",
    "# import YOLO-WORLD\n",
    "from ultralytics import YOLOWorld\n",
    "\n",
    "model = YOLOWorld(\"yolov8s-worldv2.pt\")\n",
    "model.set_classes(['person', 'camel'])\n",
    "                   \n",
    "results = model.predict(\n",
    "    source=\"/kaggle/input/camel-video/camel_11.mp4\", \n",
    "    save=True,\n",
    "    show=True,\n",
    "    stream=True,\n",
    "    device='cuda',\n",
    "    )\n",
    "\n",
    "for result in results:\n",
    "    boxes = result.boxes.xyxy.cpu().numpy()\n",
    "    cls = result.boxes.cls.cpu().numpy()\n",
    "    names = result.names  \n",
    "\n",
    "    for b, c in zip(boxes, cls):\n",
    "        label = names[int(c)]\n",
    "        print(f\"Detected class '{label}' with bounding box {b}\")"
   ]
  },
  {
   "cell_type": "markdown",
   "id": "31161028",
   "metadata": {},
   "source": [
    "# TTS (Text-TO-Speech)"
   ]
  },
  {
   "cell_type": "code",
   "execution_count": null,
   "id": "28cf3a88",
   "metadata": {},
   "outputs": [
    {
     "data": {
      "text/html": [
       "\n",
       "                <audio  controls=\"controls\" >\n",
       "                    <source src=\"data:audio/mpeg;base64,SUQzBAAAAAAAI1RTU0UAAAAPAAADTGF2ZjYwLjE2LjEwMAAAAAAAAAAAAAAA//uQxAAAELWTBUEYwArGtqAE8ycpQJpMANGMsWx4DCyadpwQQIRHsmQIEIghEEL/f3Z5MgQIECBCIi7smTJk07ghBkRjQnd3d3dxBCIiIx7Jkyad3cRnjPzCaZMnf7RrREY0ZD3dk7PJoR//EeyZO3tojXtO7s8mQIQYQiIgnd3f92QIQYQIZ4u+59k0zyGeIYgrWIYkMgB/X5oAIkpVy8Q6EdT5PRW9DVKoU6nU6nXyqfNzNG3G3WWCysqtVqtZW5+q37WzvcYzETc9UKPIo2NtV6UzRJ0IdmaWlpxUxF10xyiwWBakYcpNJZxNZxPGxB5iZo2mJ1t0aabiugapmHhSYocksydIWEPwdTbtMVEdo26UOCjECJDEo8qT0wvEULsSkugoUIOdQitoqQMEOFiecj9IFp3Ufm5kl/diPsn8ip+yWbpsmlBhAGZVMgHZZ2qeAkUHch9t5bL6e5y7yxswUJ18rFDJbPFq9u1Irvsttnmtw1OLJKX9NFDarznRwvLFi48q2uOER2l47ucUXr4zCA4chP3Dxg/dVK2GsXtr//uSxCoAGUX6/hWGAAvbw2FbN1ABKQY9DDpVO2tyv0O70683ra7ULD20j+q6iI+WmVI31MpTRkqLmzFUXcPlLKOiMsj08VU10jJdOoFpKJqRozPCrEwcrjKK5YD4caA2UNWLT5IPiydL1hlercUGrtm+da3XyetMzTrPVzGf382szs1r09NmqxZGhZImiYKoCAFudcuFI4JdXMYxixAywZvVsK5g6UcQlIMiwGsiMBh8LqNbn0QMGAwDGQWCIFMa03TSTAaA4GIweIDCDHmSkVNnx2C1kmH9CxdFJ3UqtSDniACfA6gDAEAaCAW/qrU8xQTSXPOMMTuI7DpwJAcQEGgpEop1rOvWZugmgyY4BaxS4sYrcTmFmw6AT49SDmmbH1oTrus4gtSYWkDTFwE6O8mBzh4HGHrkCTNkEj6lLQMGRuqkyM2TZTGRumpxmBmBKBUMhjBkBKBBFEEGPFLhZsVpQtoNU7qWzJ//PKQbU+yqls6KX/PGJeJAUoggXzOet8eFJiBTRRFiJRHOVPJ0mk1IwjQ4wwQBjBkUBaxUUwUUkv/7ksQQABoVfWv5rIAa7S0pQ7WQATBGzQIKiTOixkG5IMCDBJQUGgjgEq04JujllDUobtSxO3QR0FMJ1tfi7Nc8sJbzno+SGX9kue9dmrVNc3AcXLiMkrtbfuks2Ke5RsSkerMqyyhbgOo88rh/D91JZe53lqvdp5uA2v5VH0fiWSuX49zs52d47/W+/vu+ROj5Xn8PuSxy37w7j/f3rnMPz5/4/+t67GIxYrv/L9UnI3Wll/fcruN7PC/nzmX8+6N7vsGCvGRVmIASpzakDHkDyw1MTkbzKABoEg4CRwYASOEmC0AyIGNHS6JLmsiiuIA003sYO7rQK8ml40CmKqs1yHY/S27Eo3ZtxuNXbdXO3zd3tDdjcMPm6zzTDpRiVWZPUrWK1+LSqt3Lm//mdjH+Wq1ns5TTFqgkle3f7layv2+WMpVl3lLRWatLO1LVa3Tcx1nrPX6/W9/zn/zeVux+v7/7wlksvc//5vPPn/rDu7tr7GPyh7/zP/IBmQcpq/iAAAAEuYAEpxREDgEObE7zQAAaLwC8A5YVRQkoTjAQ1Cr/+5LEEIMZKaVIzeUtwsm0acmmJtEiLDDDTYO1cBDB55nlAJqHGQNwSKdhptBGn7GRC27F00Wf0jvyCrPyuakkG4uvFJfFJRM3ZbPbhylYpJnVZmr5rFZppCB5OPlCVeMpf+/q49NTmDiKOGQgZFrJVhUnSeYqksnClJSmhakkki/ju+E07Pev1YxhHPJbUyHOTSXlFRKT8rcLSPtxkw0KormdlNcUKtEZeJ5u3TGbZQXmTOGMMsK7rlM7snrBBk4JKho1CtuBiSyLBDUB18hBCT2JioSBFDU45SXRrgRAx4QDWbZNHrQVOTE7Ugx+WrRNhs5kUmXXa5ydOoJ6Uqe/E739pyZBMSAbGBiJJ0TFxMsZWyW///3RKVmQtU3FlZdeVIzALzBAM21lXNSCFGmSQSyLdwjlS11w6+S2KVK+8llfPtxlUsheJdzll7hdy0TErKIlVWLDaMrydLQPwTicZB5QZbXQA4QI4ED+lPzepYAAAwEAhA4GJASFzKbRMbCYwpPDdIlBQXMIgYSApboaIqhoGFijxCOkwDB5iMLh8hAo//uSxBkBm3XHQK49NsMTs6bFzK05GFMLZkUAuaEADZUtJPFfKGjDlTPq7s88mYS7KVCXx+7OZpbWifLLTD6NDeISfwXyFnKtZL7EQTcuVHHhMM1Mf37VssUaSZQ0nOisWmgWCyMzbcCeoWJkBDbDTc4yRSq8jG7ZZ9xgqhjDL+T2txq81CraVH4uImlGvZEs3R4lWKuIsDSYWGnDcQiaHwqhBdhdgSl2CQbENTWiQs8mSOSleZ8v38lT9W4lTMElY6OzzTyM7KU20XDNQtM3qg02pA4nAAEhugFKEw1hjRsNKA39DJVJBjxSAyzPobddgsnXinkKmESyLDkMu070bfmKw9Inga17Ll5CKBkyRebGVWgcOokGYggjBAegSB2qFZaQhKL6JtIbuIYeROuSk6kxzZYsde41KE0251e3lxukbLHFzYmkkqdRsvUpLot//ltQ+ov4+ueJ728JfG11tdW1FruHNUedcbbRttpqapKk1I2OtRNaaa8XegeMMMv/4uN+VQAB5i5iAQnySKYuApjFsHqSSGC4wmEx4EEoCMABdf/7ksQPAZgZnzJOMRyC/DRmGdyd+G0EDl13cNTg0MBoMEQODCxlFmgRZYVMVI1a6CEOPFZnkHy5w6+nkyictko0H5tfNWOu7aykeUrvR198WY2qq1ppmcQnUwYvKgrQiG6yNa9DDIcjtnrT0zMzO1nnkzKWI+dpRiiReVDKpOVKjvOfl0YguCwmkfJZQmn//+fmbx8yo7Sxi//NT7X5jlEzN9sOGkbSuRIw3X8Jzx3WMPUk4FLmTK4gpdAwTCM3iWcDHGYIh6cFicYTgOYECSXLRrAwxLPFArHgTRXJkpTvMBwUFyZoqio0Uyo34eNKNRQouZJGl7Sm/awa3XaO78TKCJPyHMKCf3KNx2WVWwTEludYDRSOM2mfNn6+k9H6LcxfwcLPt/fProah8LIaDokKwwQAuKwoSFYROKyIbLBAWKhoMARICsA0bj5MfA5V2/V5w66uYqNR0f6srUMxA6PQxqsVGPjx5R6vjpOp7lC6lHMLCe32pQBGQFMABgNqf+MchSBjJmSCPDIJmDQBGF4AsrMcAMpCQSyYWyQCDIUaAUD/+5LEFYOZza0qLrz1gv01JYXXoniiLoKBt4hkEWC5DwE20/RoEo6DADnqYtkZMKlxDkfGyE8yEKcYSTfIqPtPvWEal0OQh4lYeVXGzDkGc2J5kmQ2q82q096udt4//+8SKa2FNhcLLe1sydO9ibEIXR3OU6EXLkzG+rUm/bDtYRWIgkCcUKcIyNQtv1LzfVR70Tk9lxMWziaO4oFxZlYVm6izJnYpDe5QcjRxMXj5hlh1VLjnkCu5I15EghmOfagAGTFgTzngDRYYDBMRgUA0vMXw7U2MAAdGgSTbMEA1HgNT1C4DSsgAF21OmTTLxlNIIoXtSChXJOlknZf1W4TxW2m1FSS3cLqQ2rplkpiNlnpSKX983pOaGooi4xqlvr/5+N11v5evbL0Wd0vqlTtiRRJzEOswHa8Mo0jgiHO9NBqcCxIFRWVNGvSRX8/33r9Yy/5/g77jyqjgjnEgubU6V6m8wTcIc8mGvksMPYRC5PTHmNrBYw1KMAAEtQKExsxVg0T5gocBrsI4cDAsD6cIqFJhaEUrL2KugVoz7sDTFvDg//uSxBUDE42nLk6wt0L9syXJzDFgEOJBqk6jkQ1LsdQFJn0UxstlVibMtN4KM1y8zPGbKH+pLtk7Mgw9gT3gUXT7O1y8zO/+/k/18yq6MwrQseeyvWkpYExcfIR+ePHNzwinQCB0VPIRR/8++QZ0//3J+NboP7o/1ne/GNmVB8xSmjAvxj51QggTBKip/PHiT8MJWQwYQWCmHgmocYZOJWOE0zSJg7CUuIqWgXY7gFI24QkjOCAJfjBkAzX0T1qiEmVFEGo9ach2dH6UG6uBCSsVJylagXfIdn4EtLs0L5+qKtXD5C1NSjNvcm22YfPWlmqiuXBFBkp3lt0svWVsmLx6lSI2ltBKPTpc6+eblYc61N7e2dzba1XljdIYGbVbc3m2rsRsQwXPK0L55WNQ85DBtmI6fTc2u5W22rate1yGAVATiCumADCMAABBIajtDBs5UoQATLvFhAMOfiHTBCVYV8yCQMt5AG70xmspkSHBi0UU5SoVVT7hprkdtxCdjCEVk8FkOzRRe2UQX4LEk2//vqHn7mlhAxNG3TC66pObYP/7ksQtgBIpYT+tJHcLxbPmxbyyeuYobshJydQKRLk+/K+lhkXllxzMRxAaW6f8y3NCPI82TdO7nCj56f6JQUVgPsIjxP96NTSs6MAYfMKQj8k0iDDBksSKFL2Kplv08K0nbWW7rYL0FzUSZpTBYHVhUWSqQOkjSRCgRZmrWshAIosgFdVeZZBXEifx0ZExNrDtqbrTLfwWy5u7bJbKwLsLoS1mCmkslEPLsSIRwdx5mJvs7PXkd1+G6l22+ahA6Y7M13tbSrd9+W2chZC9LKgFO475NfiTjOpDcNug7DAFiKAQt543T1KtuVv/9lQZ4cOGdF+3tS9ImLOr4zt5ih4dasqfnRgoEAP6tvSca+x7zG0yawDuhmZ8YVHNUOYeWgrc7gLC9wfCGbmapipINi6bHjlIcgCA8uJ0EPyFAP0AAACdkRoDkmVJpJWmIxuUuI9cCSxwngpqSI4SyHZdEIdYnMKd6epkv3wGYB7SBwkmJaMgLSJOKMeB+s4CujjrR49AfRe0sScbgcgGhwFyIGIX9yOZEjPFIKt4LGoha0S0ESP/+5LEMoCbaZVDLT0zynumqVGWC1nkfJsBxi2C/fCfiMBhsLk/Oc5T0jMRGS9rsx3A0xA4iaLkZBOj8Yka1sSDotZlgztXXLdEVioUQ7Sqc4NyjJzL9mWQmxZdJsjHB5IhQChEUFCaBWkzbS84zKB9AcmwhEwQI5E4rFIjDahOKk3ssNyTESj1l4PMQAlKwBUTTE9m3czj4XKTC9IKSBI7VpYItQXZguSAQcWCcuzdwZClY46fD2QuDIZhChiKYsDWcWdaMv2SJWv8nupS70ZiUqFwCRKHsRkIyLbF0xmnWrCodoR5CbFY4FA90CV8iDwsOUpTQ11B2aTFlw7s4uZuesbSsd6Qu2zXWsUE732XLWyFGUrSgtIoTFcoLdguEqdzE68Hya1OMF2tKgEIAAB9hEifWibAWgGoH6SsxjFJXktx/MrsejFPCWXggMDJJHtEZy3NhiDzSE7hgFrVO2KQO8/zLoiTEOxDcXHwQZNnkyHGDlMhYTDFDOVOuCmY4z0vx1FtTrUiy8jmUBzJJRHqXFQK5mQgFEqEVBYREzji8WiV//uSxDuA1HTpRQy9OIqJLCdhthcZlEsioiNXbO4ig1H1iUlpoRvbrRjvjBII2N4bi7mxV/inLdvM8by6JrXrX73gEQgQWOihp2mXuAqof8kFwQoGsHYXSPS1iw3OLvU4+TE3TYkXjMeIyY0cNOFpkpYYKAhEHoqOEz+Wxd/VjQ+vlszAmtQGB4EjZWcLxyYfWwqVx9EUic22WVvOntKXW2hdPkdWTlMjo0zAusVliqXdk9x4x1LEuKlVAYqHOdHPRFdHbI6OgmpxMZIUR43v8+ypYjsmcc1LJKJYjsJ7VQ7vHHW3BhkIjA4xxQgQgKYREscWBEYIAGQBwixRJATJKd52erCU4iIrtW1pjVAtZiCxUzZSXOUEVSQThYJirQqrOXDqs6P7+uZBjAo1QwJi0p/JRPSvGMXAMLio5Ai40Xh9xIBBFDmFJRcplcXWhUMcqlbK3ejVvV4+HhJ3Yxv0n7sUkQUODxgfKhzC4z9P/M1rw+jsdUOFBGsTUaZ0gIowjRkVXPpJ7GI4CGk/zBjPFQCYamR0wll6DDY5VpZAixIEhP/7ksRfA5SJlTgu4KvCiTMnScSXSFOYgRAWQK6GgEyAaBsVAoPSthqV5SNJG0psy4dAJaBqBe9EVVdaU+veQT637qS0Oytr9eJ9uUNcF5Ol7fiUl5RDbBcJaitdqa/kAg0ByCIuy3rvXbaatAoTOzJYq2trT1Icdcjjwphh5Vau3/5WGso6pSsMHoGmFnxFw+3RzDrO0eVQeIo2kdzFABoI+xgwk1kLgtwDNQRXEJIEeAaTiVMmCoIhCLyjbjjoXXcFAg12LBAhc9hLhdbK3ulcy5O9cC2hgQMFSnXBUbWfbm70oR7aip26U6zCrEnXyJH3VqbTOlcTYpo3aGytzSX4cexNU/8/////9+L7YipI6ohEApRY2SHn//qRWoAEKGBgp4IYjtL//rVqvRnQ2d6lA2nRqtZcQAXuESbpGEAf6oxEADA5zMKAkzHCjHYZLrEQiXtTLq9kMhW0ms/aIjamAQM9z7C5LT1lme1amaMrXrcXVRF9VLUzXUL1gUOhHTJpD6mVzwDPo/6jkMZEeyKKoCgMBkFjf/Sh1Z3Idxo5BpD/+5LEggET8Zk4TiRawiSwZ5nHliFIecRMj//5caCGdhdVFHKKiTqvT/+11WrImg3h3iLPA1l00JjiBgCBUB4xDPc+TJc02WU2UQczDGgmJ8BBsQAClmumAo5Ot2YmcGJyMiRZfFJxAdTU1amtXO9tcppl+YahMPP7IO0tb6k7EpHHXATGWtHmdVAMtWK2bKXMyKUgkYweKIgUhkFnMiObqWj6iJVTDzlIb//9NQ6QyuImK31M+hvzPoavZaNVFLQyO5R21DOiDWxBSRkL5dt+7QzA1AhMJE9E2ADmjHcD4MFMxIwfwejAcCYBQDxgJgBBgHINAHWrIF7S5JxZRc0BlESH4ejMrlAzLxLmx04amZ0hhfRMXPUTVJRxlmR4ixATVkjJNAuvZNa1bMi1NJ1JJVKrWgtSrJetddT0mW279VDb6q/V6KmNHdazZNkdd3W1bpbdW2itSVVjyn2RUk5i541SNkUnrZ0DjImpwzhOecJFTzLA1x0y8ofPMbuYtzJWxJgyzZKkMurFZTCMwEEwCwA8MCjBlAuAUGE0AMRgGQBm//uSxLQAUuWbIK7kq8qHNSKGvRABWjccRACgYAThwBoYA0AaGWIyoxDIuJym/TGY+4L7KDTIlONbGsVCZA6VLEnbmJa5YcOvpWmbXnHLEjmnijUtweVL9kyXbwxC7ap/vY1MJnVhDcSDjF2D49u7KJzc1Uw/u7s9MQIuiJ9l3bkxbppbhhIJRdnrlTDKVSzsreeJw5F6CBIOnpRnT28oMeZ/YGxtyTfeT8y8z6U0CzPIEhu32daBFvltZnFqERuJS6R3ZBAcFu3AUcnn0nrGV6P7lEq7ANDS5P7P1HycOs69q2/EbpWURCmWu78Ukj+Tsfjc/S299zw/eef4//////xq7dt4XburO73OY/++9//////gZ5mGW10P/D9up9JvLKpU3dxADKSAAhCIwFo1EYSAAEcCMmDozCOzLBrAjZBgEJhwYFCphIChcAkQVDguYZFZi8GmIBWAiDQioENseAxA0x0KlB0Ei0aokdtGXmM2qRPDgrIo9D5dAxocOB3wARHQEbBANeWNWPGrenJnm9FmKLGYLF7jAhgUGurK03Gkd//7ksTeACfqLwIZ/IAFAkMmtzmgAN4QEUBSemsMTi6qiUcEtWTrRBa4veeppe19/2qoS17q4oZ9yWtrmZs+UEOlPObKe6syt2GcRTOnp1iNcqvZBcpicAtpVjLqww7dPD0YlMLm612n7lY5ObtuQ/l2Lue3GVtFo5+mh2BYZpn8h+CHZic8/kqkNinp7dJhynp7dJe1GKSdp7fzlyat/WsxWU42rOczI6fuc3J7WNPZraw7X7/O559////////////1flV+pa/utf///////////y+7f5vV7SUANSQCgaAQsJNJaQ7GE/HqQMuDCEsVIzRfcnuME4zmDiZo+HEUCqX4MKE/ZWLU0eHhjmQ+WBSaNeHePmMoKRNQJsQ62e6xGfQJJ22SFrdKezNGkxF0/eRvu2fn4rTe/f23q1b5/rGzJbWPPLr+uvi9bZixvJWLFmexYcub33EnzqJXFt6tvX/+bWzj/5ziFWudfWtzan/r9uM24ud+eCp4F00gDQAAuF1SEAGEkWgwYHUh0ACRIQAmeS/UijOgVswCC6FVItHsCCT/+5LEZIAUTZE/PaeAApq0Z6XHpeg5uI6rV1/VFnUJ0uUhKDINVrabK/wY+VIwlCa6KKx9ChCov0D0hR3NJGOInJrRY6yCY/iZkbDex2v5bHKW8cqthlZj4LLubXhier7GOevu39vW+o5+9OdMERldY4jxHvqsu8r/3HL//U6m72ZzR21Umi6NdTuk2wcPXSUZFoxrEoAABgaqxAHzW7IHQibFdZ+oggYFgJzLWKolvp2lCr6BzDfhRgDrIcz/aUkX/VBHJ2xDuD0SO+2OysGxxHclH0zGTvvQfOYy5+X0QoaUDBFrMgd3ZcMkzx+ZswmzB+hk8W1NFiqkC08JNCyBoMBFJw6E6nt/mzef7K81LTcZV1lg4CUsHqr0byJyD19fzoeqtU10hnViafryuToikFGi9dSk8tmUUzMzMz8zMzs6e9lpwenkMjT3U85I49hjXtOVpXIjB3YtRy7VSXvfUranUYGAsbICOYLCmFOPMghnEYmlA1F7CAIlplQGXVKgIQDBZp3DIjBz16r9EjspceEsgfPTQqBnDLmVr9jQgJoH//uSxIaBmaWfNM5li8McsuYB3S24FlBI078O1X3lkcivXbclHakYQ5098YjkvkscpHZlcseZ/4OJQLjEQjceDVEqSWEw/igBCYG7T11/8vzkLrLRdwSkR4HoQg0B0AmBwnDpH4sTKYtzr1W965Wio43UGwd4pwqATJOQYLSGc2Xtv////4/gmc8NdWhUZ8lnbQW9plspGQ0te2j6FQAAZfZKSDZpVEg8cEcAk6jEAXIgtMDQxh1JiJoTofLnhAtMCAYB8GOX8+ork2LUKE/Yp3NCWs2EcPgJUOtKNbdHfRpnzEUJmmAhSrgwmOfLG7Z3N6zJFF1TaWYYeKQZauTE2sLZMyxr3zm93kSJTH3Wr/cHclKuFMucLTPRo2xN7FeG88eHDcIESlI2osVtTrA+dsLLCjty26iLdt3u91/nX+L3vf/5rSmMMH1iAxR85XTn6vXDXYq+9m+buVD5jUU2PrrszXPjnSINHzEyI4TN4cKAaYtDhEJTHAsEIPCAaYcGgQBhkTJ5CMnh0alwmG3Qt88iupbLXLporXd+vJAADPR6H//7ksSCgBfpkTZVx4AM8cMmQzmQAUc2wP/SMkgRmbdUHWLrXehsoWMd52TDMUxkcmV8X4QINcgp5nfgAsyyxqqfjVFC46W1El0cC8b9PtIJ2kidpoy9X1k19n62lO25wJBq/xohIJFh/Zx3GuR+SPqwlYrTnQWyrbAq/37ZQt80DQ0s1ijjHICDUCJABU0SXdu0/Try2BaSnu3671PM96t0vij+yqni/UmlBJ9GJ9Yehgvuv5jDyYUtJNW8Mr1TL8ce5xCZn6Sfo7E5yhuWLVHLIEZbAbJ1sK4lrh0bv24nBEYpsOa7rv//////////////7nd61znM/////////////swDAUhiM9ObC9IAAAAREyJ4hCAAAAAAAzxLBV8YFKApRNFJzFhsOLI2NGL9iwy+6YJgQM0xgz1l4kn39VA+iK8+XNaAnrDtVI2VtzLxrZGRNaaVx/pS6W5Y7kzcY60FqbAom969XYUCZm09solkaGj0rtTQmIr95k0ncXcnrYagy49hbQvIF0J0yrCSu+rhWxTRfMaxhLRgSJXScbGmYwv/+5LESwAnehc/2bwACtetKXey8AFCtlLzO8r1S1NRZsqZ5HoHLcl4UUVMVSuS3Ivqyhm44cBfRvb9YdrMcdtWBQRejD3jfFwMZmWv/LJc3V0qaHatZpM1HHlkUfZGno0GG3obRw8m3Z45EopbEupqScq169X4af+UvtAt+Cq92U0E9yxGnseJl8COHI8ohQ1pTKJnCdx7/9///n///////////9+1W7c7+sv////////////udo7125tsAP+gywgAAAPqSRzCBU8mSs1+IMdBxozBucG0lh+kNga3fbDRE95R9nefitKxr7zJBrVtzK2sDa0QFMwM5jFGq0LerSpalyoZW/PZIyjP8848BqibXHiNNY8OVWMDxUq5Fv1e3p9Tk3U7AilSar4uS7gO7vITIrFe5v8RtYpCtnFMRMRae7fDV8ONVqiea6nhrb1qnf4zNeDJPC0ySRabZMRqyRIlK3hoLrWZhx6mOPCc7/Yh/t0RFXpiJF0AAI4AtGsNk7x5ErMVXIk9liEfl2Z8qVt7LtQobDcpFro9u68B4YLIXDF4//uSxBiAVEGPT8eNkMKUq+m9hhp4vGYkkBYIxKH5Yfads4gnac7gMTs+bxD5bFnQvHptrTkd4IFx8t0cTkFvSEM9ILqK52cIbvLUOp22kuVFtq36l6RUc2m2lN31vRHdlqchhOXYL0exeul47sltV6rF6rad+bS39NZpvbTmu+fx/VAa1+kBBHeDQxgAE0KUpmJN3c9pdOzR07b7QVAsI3QxSC4apM72Nur16zN6Za7Pz+VoxeAJCSY2Eo6MCrxXEAWpDUJz4SCUSFZPIBYKJlSGdSUy145u2uKxWOy24bvRk4ueZpCYkHw5JZUJhLRqIDyg9jm4LCmWyqbgLC8CC7KZsLvG5Bk0lI1t4urdUNcUu4j7aeci5xTapbmi04YMjmBlOaUODpRB93WqAD1pTUAABAIR9iqIieD3t+y/rsNLwrtwvQIabe4cbVjPYGvibHtuBT/UvjwGqjA5D/JWu3sckMQXEfC0KA7D+1iDClhNsVjYIrOp0CqIjDILECNhssdCwfQJitM2QjQfQHyU4JgdHA1JX64VSmSnHstMrYs3a//7ksQ7AFPdT0uMPS3KmiQoYZexeS6NAfpdnyxVAREKCS2waXlNWMqlPtTq925TuT2OFSpKJNrtmGILpXX6A6CgKc8CSA4rgFeihB5IYZxK5bL1Wq1IgBFELPtzXeoEC+YO71m148/V5pouKdh6J5Dxzi3CKnqM4PSeXCKO5WrHQOkkguwWXHR0Vlba2J230OYh6EonLvR3SlUSSa6YnR0CQAQEhGVmJJXGRKEYGxkjXVs0dEolEo+aaqyemKl37T+TllxkuVY899caee2sSCn7xBTQUFvqoalrBQrwoKjSv4my5lUAIBAASqInVYBZ8RDDQ7wqxB0xeaVCwitqjiW6DAMHmZMiSAt6OAx2TbQ5zx6X3rEGMwwDJIINM0heqpkHkhBvj+DaG2Qo8T/VG1M9JYWFrVeV4ZV4VViqLMBSUEQsTqxJRHDtrV33XB6VU7mOhJTKcbXfM+2tNbfKwYwqYcK9xO/ErxHX8QtXCfZErdGujDpG0Pvd5gyDTBzXylgBQ/AEKdkqGuFhwsKCTOjgJrJASXidL5uu2WUpRBcuqo3/+5LEXoATeY8/LT0PSjey6OmkoeGOHTINhkikeQB6m5ShkEU0IfKAsuKSAVNBUOwFQeEc1oXrHtU7f6x9dffNnkigcCIYQQOoyff6/7udnrUo8lmmpoWQq55/+a/yVKbVamqKiqV5+G+44bnpFmbPJ7GDoY4aHqRVUSOFmuVWOh1KAAJAWgDhe0r7C4wYNGVDmeWAO8LgBm7+NquVPV+lanCiQOnnJgmYYOzvXJ33GBScLEwNAsIpbopOsmUK9sxpLHixxEXX///M2lO8h+FjriJGus///F/X/LEFHNG72Mj+////7SR4zSfjaI36+upvnTt2R70Gu7GS6U82ydxVlJl94AjqmayMHQngVSjYgEwutNzbyJyInSTgYjEBwZc7BEEYqFFxi8rXGVvK+sqpaeMZ3MqWvYibuM0YStpmTIHnbUwIBTbiV9/8rctpq1uzEY9F2kNxV2yB+Xfrfz/78koxL00zNc0KRUPkAQC4qMiYwKBWcZmlfIjnkc+PFbpAkA5kaUj/////7ylYTgwxXHGrMgMERUUMgMdFEAbDAgu2//uSxJAAEC2NTawlD0Ker2aFtI+JQoxOPhpSv+dZAEcazij82ouCh6UmxnzocYWga+MMOA4wMbCTFEhFkDGwGGXOgRkbpwJK5Yq2RngbtV9HkZRcjECFn2fh3shYwAUYLFLm8W2cQ5D5O0wlfYpVduDj//G66o6vWp+ohnbFqddHUfrO4rSpaU20P9Z77JEdFWW/5iBSvGcBAlHwYpsv////0NdqZNHgUUOQsQFBUMwxoYEHRAIlYHhUKwDvRPjGf3l9bcAGE5tgSJuBjguaWBGjRxtJobmRmRAQYSIUGRIxjIUVQaFQ1MyimlNyvEf0h01Gmh6vEyaIPw1zUOI0Qk4ii7kgbm/+p95a2I/DNJMVjnrf//+cYhvLqRjbH7xwZ4pLzkJ+VCRXDIzun2dPpUHPlrrf1ytUeJA4BuDARA6IRZCyca3/////8X2tpZjwNI4F0dBow9CSHIhsFlmdDIFPB6PLEtMAwQACYITGZCoY+FQqM2OwiLO7HjXxYBFhEkDJzXgaYWppph6eyKWZ1q9q9f1zHL+6+XOAiIrfJIhKIP/7ksTCApS5aTItvHHKjKumVbeiOBRIhvM3OH3PU3w0llIiCQHyif//66afhQbxQBLFEfg8FobnQdgPB1vVJxNLjjqfVubH/HsTYnMF6haQ4DwP5ERUPHE1p/////5ieYiXPitItIUzrthsdXXWesuzp74bX+8/X0ozNLFo93KgEkxCyMMnTLDkRjBjK8b0YGwCBE+A0DM2LTGT80hgMULRAHKHxiq+stm69ansci+rVXe7tS7FYGh9vmKtPYeWzUqcCls45fv93aS5m+6d7bK4gPmeP9/9/vPe8pyr8uhCp3DyikXFjggwIOeYhZBFJtIvQV+b/VqUUNNer9vb3c5cvU8khM3eisbficg+UUT/x+fmrNrnf/v///3/52pnyvW5nXmpbIpNP5yiMPxP/KI7AUMyKKYXZdOXalfvMN5c7//vPn77y/hjzX9wwv4AABidG05qAAAACQUCAlAAM23bMG0ONWaMJTYNiJHNUZ9NNg9MyixMEhVMmw3A3RmOaWA43RYFlAzBoACYkQcAUAqcppsrfJ4o0+c4iIWjS+b90ov/+5LE5AIUrX80zeFpy1azpZK3gAAKAzDDTWgy0KaK90oDMAGAmBIGoIj0JsEQdFR8BZRIXEdEIkBQy6UMzIoXOMvFhU9hu0/bSo1SU76iEGRAZ2liMrBAOQzQhCmKIpbvLsy4UziE99M0iwHf5cxAxxUCpgUaM8lLJM6dqAqbOTUcadiGmWp+IQu9KIEbAgsLFCz7ZV+vK/ywxkzQgArCMDqWeYb7eo5TEIGEiqI8ozyqtAqO2kmDAkBTcZoqKmnY6mS2RMJwoGdCL0MAUm+Y83cjGLOXlBQMCAF/MvwV5Dd+JxKZeWJN+W2LTFnlivK0aU3qSKyGmlshwsX+freP9////////////gdYmdin5D8sy5e7//////////7QmvUFeco4alW0AAAAttyUALd6EAAGNi6aXZJ2NpGMl2eOBBthgGpQkFCcgAMPg45MqDS5GNHBSHDMxXDAGaSYxIDG7y0mIeUoAQH0TzT7vsmetWhpaesqlI2emu/ieIqyd6b9NaDeDJA08mo+YIw07Q0bwr/DBYetQpMUaMncbc7BBQrM//uQxO0AK+YbIXndAAT3QyTzOZAB5W70jIj4A7nI0JD1uE/7dVNWzSmIR1KRAxYSTW2+Z2TAmAyXapXa+iu8vSWDbs72LOI6ceVwjUsCLFx2ApXQvmOCJYtfQlSuYtWuc5Lvl8dXW6+c52w19x5+T0SD0khU/DrDrbqsKk0bs0M7MSfVNIK1rLt7K7NS+J1J+YpXskeMsoIg7995GcugstiTsrJhTuPPAz6u1EoHv7w1ez5rn////////////5wju7Ot2P5n///////////0kE4yKJfOXQMYAAAABpShAw0QAAAMk0Q4uSTo5ONBjA2MnDKQJPiCEwmKTZgpISiHOUyqHTOALEgYYGBapTK4dRyrVxbCs6koNaTTRa3TRRw5EorEVFB3RpFOLabDHokICGJyH6wigcgbgFFoUZw/WUGEBx5zqXZcVhhN69KJx1ud3NRHn/yo6cSh1nyp3To5Tdgd/HXl2VdaBfQKlUMh2mmcLVHzKZa1Az88mdQ47kAuA5Tj5xFl803pctWdnjUJfNyWrUp8IxJ5qJTEtis7JKkI//uSxGSAJyYdJZnMAAp7sSXjtNABneznExVNmCpiq3MbSrTEguNtcmspFqOSeC5bANDdoJim5nEuU87JY09+dJBNPWfmOvOvJecAMpUHWhDCg7BGIsucGnkEpr3//WG/////////////+il3d2Pv2+Y////////////yJ1rcgj9TKXbuAwAAeAABRx7CB+rJ1IZraR4cxYlgIigqgKT6TmR+TSLxO1brl8tOFiBiZnjV0qVVJxjjBgnwAYDAD4O4JuBQwsgEsDoE8GUTh2FjHCZd///abKSqMD7nE2LpqpVKv1LdmRfUbGx+gXTEeymWihdJlVoupSSD1mp57nlnWWymNmukzLdBdjs2U6yc59ZqtaBdSzFz6mWkp6J7kY0+SeM/ugAASCAyfJTiSSMQi4ywdzGwdAgKMGhQmAZb1hxbVrqNpd1XI8TK2wqGnhRoL2SkGLutNvYL4nouJQA5g1QKorgTIkIOUXQNUjlyvHUfyGwCOr//z7MuMbU8CFGZci/+WfnKKa6kwYwYmRYBATQ6vnVpNsGtEhGQ4x4Mtqbeq//7ksQ/AlNdmyEOPG2CazWiVe2gKarr2lsGINhRtVDCb7Nm1Z6JLRY1qjEbGhrRknMWEZgnoRmHEB2dMMGdIZnIqQi4QFNeUoUYZe6yo3Duj1PIss8/GMNofblvcFIcNExRQjiUaDYBoiALBESKipTMlK/PV8zfVzd9qt2r2w1ZiKS4/u6hhlwMTiPKnRLW7tEWrmPlZGKaOR7aWYZOTI0VkpVo2ChkUcdayqtAijkVzCnLtraSRo080cZO9CAYaMQt3t5u1YxN0l30cgUAgEAAYVSBJiLhenDAAOezFg0SCQuCK6ROeWAXF7D0at3rj6tdsU1XnaSzZ/+7HqyISjjIzOelujvY1Tf+XnKqvyt7ep+fPLHO3x8z16dtyJoo407vWaxZDYeGnZd4aXK10PMUgbemmUlp+FXtzqzjUYZqdGjqmNMWWgUKi1NiJZ2ueWiYeMI2eiQlVQy1HqSeqO0C+UGPI2++kHLP6c1Gx+LmjED0AhhAZBsbjcPtDBhhCqMgxTu8IS920RdreW14qkLm8oo/d9NeZv75m+9qHx2pob//+5LEaoJTSasQz2zByno44UXMmCDse79+7uz1Usgz5ZNGlJ9yjIgzqmSCkX0DZ03TOZKlHNpUmI0icce0B0hKVAnDTA0zQWZA2HnHYcKPJmJ6pRoPx5KgoFMBiAcQGESHAIopejBw5CDT41K01lFQ3PyfzhWWFtxJMW9glaNAAUMUoS9TKmnZ4VKe9ZpbVztnKtkRiN11wdMpjyy0qQDR3sWQeLrPJpy0QqhGPhnraYKuvuSHWt/zbhS7UG6pVj4YWlGD9thx9pdPrxbaOInqYg5KZIljeEp1NGpI1NllBJyeOJS9NqqpFjSMkMmSFcsX4pTkjZNlkZo2UMklnh1ZAJy0GTrA0njpompG35GSmway/j7GpBMfsssYgRlMoHFzNU9H2hu1LZFdz3dqZ14hIZy7fjD1gOi+WIDh09rr7DMggzGMxQ1wijhKIz1BsFdJGH/IsLW1nHmefjdXs1F0n03/beeTZv2xsJtYgQ/TqS0G2Wm0JOui5slXXWZRRS1U/GK1kDeNKqlmalrQ6jMkhmkKJxAzJoQyD4xMONTJQ2VD//uSxJSDVFHJCA2NMcKPOaEFsaY4SE2hRRMDaAzSiIgSJ1LbUxtBNuU6jNy+BUQsxubVIAy5ETCI0V3EqXbGG7Fat3tmr9irqcW0gtUdrgmxs74zuQcQToJiNlel9PpQmcrlaRmq3NePxOnq7NqXZhmNdlrodKYdf1z6zXP8/f9ltYwfNckibWHWMMHnXuf+VpX/c3uhNtKCBGX6RPOJMYggLd2FEHodfrAncqWy+4VoTs8go04LFx6vQGBBVsqUNxxvoo53Ifi1uu9RaXEIHI29u42t4x2bw6kmdvxJIVMzUxG4xlzDKzTETqVWms+JAiZWcshyMZXFu5+VSW/uac0lVLy2IxxaP2Tc7lC912189SzX7CNS8bSl0L4yfciAeTaZIXTpOmU6fHZ5HaFXczDViWPj9CzUPLqGkJXuXIXJrvb5oowoUYMFx1AXmw4shLvligNHEA4SaOqkeJ2iAE1BtshFJZO2jhgtrSrN1Jp+KxlBqYiMH3VBGBGXiOD6nJUCAAAABDKiLOsFKpEctpX9Outc9hyBqpv18KWGQQJ/9f/7ksS3g1RNyQgtDZHCsLhggrKQALzaSEbOkH4zS68MdyxNR9zfJ/MiDkx6EOa1uB062EKwGcisZNIRlYLmr0bzWrPQwAXocirvmoEydDqJvMrmnXGa7Gv465v8n7pMJyuYqEgkZgwIFsyyoGBf6539YW88ucz5ACI6ckEtBWHdf//e+/rfOY91nlUsNLa8WgFgeXsRwd6mcT9b1retY/u/UsU9vkYlmEP0yV8iXOzFa6w6sqVxhADEQeMIBrDHXeUe8tVaa1l/xSBIxYuz0suSynl8v64/RkAgY2GHRaYdAZhUfmTxqYrBoFFJkEbpRmMxWYRAhhoDCECJc93z///7z9f//////////8s5nLP/DDm/1//z///////QfCAIkRNuau912CR1+4blUOX71KQgDAoOAQAAZFAQAAACdBk5IhFmgIqnFYRr04kYCFRgAaHYOBhk8HYkeEVWZA4OZlcZsArfKU0qcTWiTrS24IhlxoOlC8m2bkXFkLP2c5cpnjlbyBQCFDYYLRrQlMHLImFDDxN2mtAkIPKS3YkYDiaEh7L/+5LE1oAnRicSub4AFPRCprc1oAETK1N011b2lzbrxB52QNygeGnddx+KJyM5trcVid6lrO5EY07dO6duerOQ/Fuk+ipbrvtPjsPWofi9miYe4D5X33qXo8/WOfyzde9N/AkOQXIsX3swl02VxxG9rC6omwWYZW/SjbZVYqdWHKafeA35iLqrXceHZyWTksoFlrwaW2jlwmD2SNPYAmnGn1cOJrma2v2ZYckinjIFzNFdxz3igC1q123Sf/e/////////////SSiWfyvb+9hvvO//////////L1Xv2e50KlFO4EAbJkF6E2I2W8IyJKDpXBfXkdLqRYXERUQ4De5t+MRKXv8av6ZrJWfGsSxIERgiUWYT1Ihq1UaBLcqNHoxrZ2yMp7R1bGszQZ8wGWPO+xNaLCrXcDXmxSJBjyzvaTXnhxcRK7vffpSTFoWs6s5brWLJF888WaLT0o8amqNPh2+h3W5N2Zo8OC4OrxoUb4u1QID6FXFnrC43/YXHVnJym1Drv+AyaKUuu6i1AAHo3CanIT0QAsCUMFIE8YicPLmY//uSxGEA1VWNQJz3gAqKsSdQ/CdArCQGO1M+W6AzxGxziwdW1Ll3bvFDa1ox2juOpEEqiuTNNdlECU6WnxV97spxhmU0l9AdETZDkJYXZbIkbyj0SyKUlWmJsVC2l85V0LWe18rW//nfuXG9uBOe2id2lW8kaOUFzBPbnMLNrI8JexOUU3XWRZnivIeo1CV4kiRW1VrLPgn+tLUwHferQipQJiAAQmUcJ8PAO5ChHEJQ0nB7pYuJfANwDaILGbyfHkunqURyiTmaakzvTlpnhxK1iM7ku0IQhxOrMPDU+ilmHCJjAcFa+ZsybRESFu4XKU9kHyVqe1JrOLgkOTWQkOt7NHXqUM3MxWhatTV6o8sWaVVsGoqC8oXlMmjxaQsXqMdDGjrGlYeWZHszqj1jBYy7Ve8gaMc0edUgnHK3kCABE2mxV3FogYwrFQPdFbz3I5uJD0FjBRpyDlAGN1F1hVoW45Gk9lrUV7WH0ypFUXF1NppXTEgCfi0EKINGrZgVTVALsdDbfpdlhxYEYzc0s/j6tJCxUehZQwTxtlLJS8t1hf/7ksSAgNOlfzSHpRwCk7GlYZemK9YiP6inupRpvsVv6JJd0s5nbOhlaSFCmtvtgqlNFNbek0cRIZR/SeilBX/yc9uW/2zfThf/uKH+SHP08TJWeceTiAEK20oWZRKLCH6hAOAWuUvBRiE5CFa0DjCjfYwiBo1tQEnEhhvNxIkQTSG0MdmF7HcVljOmGwO3Z3EGB3rIxo8aNAjRaF+L7GXDuf18WDVEGJYVFUlu4SXW46tOXHh0Ep8gtMXCZlXWfa7lUd1+WrAo5gquR5Im4/1nOnJdRcVqLx6Iq/ytx5/LNqSfLpItRZrmkl/7JmlViv2a0TQw4Eg2cG7qCAEAC7BIRQVwKcKml8AaIhQJKHKgUFuT0GlGyoZaK2EMkBzDG1wFgBjEBI8rEFo+qcnXUL4+SxYkhSBYBx0Wj5ew0ZVMCIThMAYGzNwilB9UR62qFOK2s9TVrd2vyq3ffcxbOltS7UVsvD0VrZTlNLeYWHppMCo4m1p5JZeBsda+PS9YWklbNVZRRqDe7bzB8LIdVTVcspLyCgLFnk1GO2oSWAQqvVj/+5LEpgGUqZEirDzRQoAz41WWIiBC/wlOUbESLhhU4lQL+rRdWcAQpjziSRhAIqOQ1iGqWV3lU5Uzd2LYhYxJCRRGzD4skQAhAH4OFWssp1QHsllk4+P2pVGzE/v6d2/b+/U5f+43bO2smjv1obFlZ7yrzk99+UvG6nF0SN4jKiTyO8ndrwvO8PNzzVcVDEM0JxFNJz2hLmHtRhPkp1BziD0LUimtDCkKPii1VEC2y1Ov2aFiQ2HsFWCBiDGZfsE3jEkeBEJiNJDgMKEsEDDCxWU09yXOE6bWm+q5wPqVFmWJrRigSsSjrYo1jYSrblolnobDfVX/+x0dTrxz99TXrS2dUDL2KbeTu5S+6cobMsi0h5jiFSx2HWXXUpWFpKpUtBNp70O42zRdhA3Euglo/BdZNMqRrGWUB9hcYRFkTBhsuvkvJtVZ8LheTrcUlEgwmRL+UgBDIAA4ZorUk3l+AuZwO9DZUEw0mWpe139Zyp2gu+EVk9JJozH6SNt0o8pQuFyRJWlRDRqLAQVICJgRMo10S7YjuHKN35Xf1r37zpPi//uSxMmD1HW1EAyk1MqIuCHBhCa4JfvH6T5rfZ7J7eBc21yk5p6iaqoUSYFkbU5eHpNRInlrGE0BY3YL4P4kZWTZOHiAlnS57WCpsqfIT0lSMqNIShLRCMCNIRkTkxAE0JGTCSZIbZLF1HhQlHEL6BtCCTJxZCOiFC0aiiZS2sTE6TLYtYy16I5njeONy0vYo8jeuGMP9JkTl1Q7M13vBIFctxpLVSYnsKJMjJ8D9XWAdNRCEksgWbwOVuBZWHzBDzOT/rrQsvMfSGvUNjVnhmqnt7w56KkyZILgj0C87mAqHStvadojZUrVinm11HTN05NV2sn1IUtkrShlM9C829i2aFJQ1E8jdhPjxeTVFT5AWKx5NDESDHUa7jklk0qkUpEcT1xxaI0GYDjXC6VTA5P0O78DClY6vUuyydQXuWQPie6/22SY4d0YAADlB1EIPYlxjPUSrYCF3n+XobEc4TKw9MKMoyqGmUKaaZWSZEl4L4NOTcTi48mSF136tS3ytmklKm2WUKFt8osalG/NF7Tpl0pIFYSG6a+9ZFyuJYfx5v/7ksTtAlg1yQjMGTXC/blgxYMyeZowesnXrbn0K9svdLMtK15aaLxKeEpIkabKqqES07rKtWJSI6RERbaAxSrSyajy/ZaX2UFsZMIh1PXB4NUYk+ZFs/AkKiMLi0BIQB4XXEk4KYAyZYckmEULRJQkhkvVH/txcw1zzy89rHztb+urB+xSRckT87l1DvJM1uLSpdD8jm7fa9/PDdLB1W9PXe545VwNLK5Hx0xaaKbu8Uw28MbT66eNyGWM/8VpNHHLY7baIiShPdrt7OSNqCiYGa92mDDBAUHe8kepOex4a9P1RWK9meMz6C3KRoaZoCub4KtV+ZYVNH43qB0wS0bVDM1Hy3NSBjQWFoy8Z20/1hD3rUvpVkVhksqgOp2uSiO2xrqF8fz9dk9b0mh54nE/ZFOrHDaoVTAnoysxGgWV9mZ+3Q6XfzXtiH8YrNS+M2puvxX/dph9DfjLhnSsxc5nKq6Tjlv1nXMSl4kFW5cmxZO80gbVtDerNqSa+WnFrTITBxRuRuYV8GqWgr/VS9IJnL8JTkna5UxVW4srsvGVYjb/+5LE8wNaCdUCR6WRyy2/YEGDPnlppxDXIVn42bQPtNvtIjte2QFNLPm54VBEQy0wiIzh0jJ5xiU/K1SkTDAVw1xCDAnkstOkceCwqOxOOidCZGKGdGgTk8niBlo3wNkwQBEK50aCKuNEhgVk5uSTUeYEt16FHj9HnMr6mp6xFa/7NawIw3dmjsLD5XFykC3CHjrYox5Jpg3tOLvd8yZo9uwP4UTWGx/mC/xE3aHOvqqs0qIeuDY3plgcd3fTuO0GNCQO4k+NzwqloI61bivTc1z4rD7PiEzLOXR0HMma7LCyBaCJRjOPYiOX6MXhJFF70rzBCxzyet4/fOSetQzsyJhUYs0PKUwiPDRf7dSyOp0uK68cx+NSaPIaFApHV0oNFpLQT8nlRgvExKI5N4jXVm7BZMSocqXLkkeqrtSPwK4l1VS2YWavumkCGIhVviP3S1r0ZAa9TZmzvxtukIlucqjcLuTlLUj1m3f+h7CU83SJj4u71iDufhRzpJ0ia5Zd2SeCerzJKfnqZFdJGzV/OhYwo9UjVXI3G+4d6rWrHnlC//uSxOuDWFHZAgeZkcsduWBI8zNZY3PyU/a3vr3VPKmrlRNXZ2CIuFoSNYZJRHbfvy1t4tHpZKqM8LCgSDBp8TRJPzA/MCSMGDcnksrnJPNxFJJdLVCQn+ywwFAEjU3PAnBIZ3T0oenMAfElDFY8A8uM15uW1ZAMjyKFefIPUQliyypG5h7g5OShVXf0G77VxdUg4ydbzVrbpvvzVZ/9zMUoETq6w1z4TjomT0DrKpxk6KjkK1CqesGJfct0VV7jCTqMpHsRMRMus2jjmyx/e76Z81p1drN7R1alVtI7LU5nk7z6mJKthU/ZYwxBLiHEt6p9xx/N1Kx7Vkezknw1Lp/Q5SlSUCOTci3P1mGDRDLmWKqGS1Ji2mGB6YkhKantTkPqKG5J8Y5LeMSCSS2epfWHmxEDVrRwWVX/8tfZLsdao713QiBDuXez9jLX9mpoQACvl5PfHiQnLPbKWQIoKWgOoBtfXf3GcjmBasWWQoyWcnbj5bWr33jyI2RLj48amdte/3pfquWksMwtpX158643W2UlpIjy71f+jvQ23X74y//7ksTtA1klzQAMGZHK9LjgiYMxYU8ubqjgRt7FfWzKsD9Wo7LITZhyiaylLYTrma8mQHaQ+ddqIEBGMLwkRajHomlUvFIxIamEnnQ/CHhyhl5omF0S2CZYZLnR5NhKq3GNVCeqBo8ZlWE4PVZg/H5ymfOkRqsfKrb1o3aTa9K73dN5yfhxc3+TfPEfUEecRk8Xe+Qy+enJqta5zGYlE3SbtenBtmoFZ2OK1Crak8Fav9FUTkmbtHZrN4dmtzgxZzwUUe1J0/ZAj1re7s0tMalW2vMaJb6+W0LtKrTyGjKQ+OJ4IIEK7bCJjYGlStU8+fiedrFFGwbHJqmNjx47THxPL90Mql8mnruGp4dRmhaOzJcVVAVVKac/LAsMKHRWE4PjY20zFZmYEhIvXKhDaDQsGb9DU9o62iRL26VfWw7BRtB+lmrW/YjPXOg9Htf6OSo2/RJdCw9Nh5o9MX4AiXN1KSlpMJi4lRNabaIhCgtNVmlqJ0o1EgHs07ZHpF3ZSbEgi0CwdnsmBmLHkZu2IkbNNvU2NtM/0R49iJ1UhL4XLdb/+5LE8ANZVeMCTCWDiw67YEGDMjmEvStuSLsr3okJqB8tLpbdW2Mpx9g9UHcKvqnKEuh2lw6KRbPUMil8kCgdnlhmfPlQeiw/w5B+WzQg0Wig+F0B6gLBKVE19BCRAMSmIINzhMWTInFse0seD2R2NNTCFGQS4pcb2B2GFWis5Gt6WoOmYtrcTLM5vl30SIYGpqbvLD0NYwzLcJbhct1K1umxvZX6371ducPQMp+zxm3f3PKOIQSwuNO2Ym6crLdifNLzbOoj5fpwq1FtlVuthaeFyknYS4SfZiR7l6kcRe7eSzvsxsOESIyN8Bqkc4D9+3qdlfSszVGYmB2rprMV479jhQ4iwsszgyQHqis3oUuFerl0q1U4syJLwyKxON6QV6WSyoQ9PqcmbpcLlPNijV1E2cytrWs0CTMCJHvqe+frVX0DW8eNF3uYzmUstluJWsZ6AUkkmktaaype2jBxXEUXVLMhcsrZLFJgnEoJiDGjQkTQFyLDTasKSIGaJXQcdMI0TKySi5bRUmiVJ0yQ2pjR5GxZGxaBciZKUgQ2V8ES//uSxO8D2YnVAAwZj8sNO2BBgz55yr5dGrJ5PBCZczAmB9VdqpLNIEV1rSpQNI3VJadGybWUApbrssoSEm1krMstUmUxUTIiJFS8mMqQJAkCRNaerCo+k4qJRqwzqrcqEImkiLFlhDATTOxgUJipCKVlWU0JlFKCKpsq4qqzGEaqs9LYrVQ+yfO//LeylY+ARCfCvHwHYX8vQMRdo88zme4Rq7blldoY1xGRbV8JZnUcJOo+JI2zyODfCeJOAuJVXJSDLZIQLwEgeBMnR4wRpEqoaOEKMnEhDaogcUjcbJcDJNNVEo1utKxbtkoQucgIEgdZPEBE9TyJooptnmZq6i+rGrzDiOTEGqY6BZQUr1YPulNaCJ6JmFmGNr1aSKRo50VinJCUh3bN00k+clvikZImre+050iKvtR0QWsBYpVFbU3CiWyimmJFhVdwgJayrSg7jG4E8lUzbAjD2QGNLeG9CDYkUvc1xMJ6YEkTkwRB7kvS9rWonCXKgt5XalEWfWMQM4MUd54YsQjQmISgmKoCURHxSgNFWBUkTKqGgFFgSP/7ksTtg9k5/vwMPSZLGcEfAPSPOYw0ITwqOnkR08hhNkRDyERC4JDY6FiMMlkYlAUkA0MjoJEYlIlDRCcDVpExV6GGxtC6XtDU0KRMrqHNvPK1tjUvXWAS16oIcCHEw1lE1GVGCjAUZZQFGWowUT0tnCk3qVjWNY0NYZMamvtQpMGFYVdvQ02bjbv+LL/QYJu4Ay8CPGaSDlBItCBKNM1IVWZY6nDJnJiURfZuT1v5B57jSGoPU16uHwgioayucHZ4blkQg5GoaiGVDM8fcjdWrmWlpKHEVBqJo8EssFEdRKHEVDUOYkEcfRGCUFgdB0FBDHwjE0ShxHIOhrJBbRR0uoiVeNRpxbtJRcXjy1/1JTu007OzvF5UnGlFHoLRJGnCRIgmgtGjTjj4XlTUmmJqSmpOOPhc07SaVaqmnKKPhc1NGmlWr/+qSqrhqkxBTUUzLjEwMKqqqqqqqqqqqqqqqqqqqqqqqqqqqqqqqqqqqqqqqqqqqqqqqqqqqqqqqqqqqqqqqqqqqqqqqqqqqqqqqqqqqqqqqqqqqqqqqqqqqqr/+5LE64OYkcj2DCR3ivW0lQWWGjmqqqqqqqqqqqqqqqqqqqqqqqqqqqqqqqqqqqqqqqqqqqqqqqqqqqqqqqqqqqqqqqqqqqqqqqqqqqqqqqqqqqqqqqqqqqqqqqqqqqqqqqqqqqqqqqqqqqqqqqqqqqqqqqqqqqqqqqqqqqqqqqqqqqqqqqqqqqqqqqqqqqqqqqqqqqqqqqqqqqqqqqqqqqqqqqqqqqqqqqqqqqqqqqqqqqqqqqqqqqqqqqqqqqqqqqqqqqqqqqqqqqqqqqqqqqqqqqqqqqqqqqqqqqqqqqqqqqqqqqqqqqqqqqqqqqqqqqqqqqqqqqqqqqqqqqqqqqqqqqqqqqqqqqqqqqqqqqqqqqqqqqqqqqqqqqqqqqqqqqqqqqqqqqqqqqqqqqqqqqqqqqqqqqqqqqqqqqqqqqqqqqqqqqqqqqqqqqqqqqqqqqqqqqqqqqqqqqqqqqqqqqqqqqqqqqqqqqqqqqqqqqqqqqqqqqqqqqqqqqqqqqqqqqqqqqqqqqqqqqqqqqqqqqqqqqqqqqqqqqqqqqqqqqqq\" type=\"audio/mpeg\" />\n",
       "                    Your browser does not support the audio element.\n",
       "                </audio>\n",
       "              "
      ],
      "text/plain": [
       "<IPython.lib.display.Audio object>"
      ]
     },
     "execution_count": 8,
     "metadata": {},
     "output_type": "execute_result"
    }
   ],
   "source": [
    "# !pip install elevenlabs\n",
    "\n",
    "from elevenlabs import ElevenLabs\n",
    "\n",
    "\n",
    "elevenlabs = ElevenLabs(api_key=\"#USE YOUR API KEY HERE#\")\n",
    "\n",
    "audio_stream = elevenlabs.text_to_speech.convert(\n",
    "    text=\"امجد زوط\",\n",
    "    voice_id=\"JBFqnCBsd6RMkjVDRZzb\",\n",
    "    model_id=\"eleven_multilingual_v2\",\n",
    ")\n",
    "\n",
    "filename = \"blindassist_arabicـ.mp3\"\n",
    "with open(filename, \"wb\") as f:\n",
    "    for chunk in audio_stream:\n",
    "        f.write(chunk)\n",
    "\n",
    "Audio(filename)  # Adjust the filename as needed"
   ]
  },
  {
   "cell_type": "markdown",
   "id": "b3f938bb",
   "metadata": {},
   "source": [
    "# OCR (Read Signs) "
   ]
  },
  {
   "cell_type": "code",
   "execution_count": null,
   "id": "933a5efe",
   "metadata": {},
   "outputs": [
    {
     "name": "stdout",
     "output_type": "stream",
     "text": [
      "🧾 النصوص المقروءة:\n",
      "- SLOW (ثقة: 1.00)\n",
      "- تمهل (ثقة: 0.91)\n"
     ]
    }
   ],
   "source": [
    "import easyocr\n",
    "from PIL import Image\n",
    "import requests\n",
    "from io import BytesIO\n",
    "\n",
    "image_url = \"https://i.postimg.cc/mrHKMMv7/xss.jpg\"\n",
    "response = requests.get(image_url)\n",
    "image = Image.open(BytesIO(response.content))\n",
    "\n",
    "# Initialize EasyOCR reader\n",
    "reader = easyocr.Reader(['ar', 'en'])  # Arabic and English\n",
    "\n",
    "# Perform OCR\n",
    "results = reader.readtext(np.array(image))\n",
    "\n",
    "# Display results\n",
    "print(\"🧾 النصوص المقروءة:\")\n",
    "for bbox, text, confidence in results:\n",
    "    print(f\"- {text} (ثقة: {confidence:.2f})\")"
   ]
  },
  {
   "cell_type": "markdown",
   "id": "9d2fddb3",
   "metadata": {},
   "source": [
    "# Done by: Abdulrahman Almejna"
   ]
  },
  {
   "cell_type": "markdown",
   "id": "f433eddd",
   "metadata": {},
   "source": []
  }
 ],
 "metadata": {
  "kernelspec": {
   "display_name": "Python 3 (ipykernel)",
   "language": "python",
   "name": "python3"
  },
  "language_info": {
   "codemirror_mode": {
    "name": "ipython",
    "version": 3
   },
   "file_extension": ".py",
   "mimetype": "text/x-python",
   "name": "python",
   "nbconvert_exporter": "python",
   "pygments_lexer": "ipython3",
   "version": "3.11.13"
  }
 },
 "nbformat": 4,
 "nbformat_minor": 5
}
